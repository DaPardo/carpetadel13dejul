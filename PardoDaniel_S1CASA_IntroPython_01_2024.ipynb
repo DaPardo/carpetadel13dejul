{
  "nbformat": 4,
  "nbformat_minor": 0,
  "metadata": {
    "colab": {
      "provenance": [],
      "include_colab_link": true
    },
    "kernelspec": {
      "name": "python3",
      "display_name": "Python 3"
    },
    "language_info": {
      "name": "python"
    }
  },
  "cells": [
    {
      "cell_type": "markdown",
      "metadata": {
        "id": "view-in-github",
        "colab_type": "text"
      },
      "source": [
        "<a href=\"https://colab.research.google.com/github/DaPardo/carpetadel13dejul/blob/master/PardoDaniel_S1CASA_IntroPython_01_2024.ipynb\" target=\"_parent\"><img src=\"https://colab.research.google.com/assets/colab-badge.svg\" alt=\"Open In Colab\"/></a>"
      ]
    },
    {
      "cell_type": "markdown",
      "source": [
        "PYTHON: INTRODUCCION (O REPASO)"
      ],
      "metadata": {
        "id": "GzYes-TBF1c6"
      }
    },
    {
      "cell_type": "markdown",
      "source": [
        "Tutoriales Python:\n",
        "\n",
        "learnpython.org\n",
        "\n",
        "https://www.geeksforgeeks.org/python-programming-language/?ref=lbp\n",
        "\n",
        "https://argentinaenpython.com/quiero-aprender-python/TutorialPython3.pdf\n",
        "\n",
        "https://www.youtube.com/playlist?list=PLU8oAlHdN5BlvPxziopYZRd55pdqFwkeS\n",
        "\n",
        "https://www.freecodecamp.org/learn/scientific-computing-with-python/#python-for-everybody\n",
        "\n"
      ],
      "metadata": {
        "id": "hMcirD3jFWtm"
      }
    },
    {
      "cell_type": "markdown",
      "source": [
        "IMPRIMIR EN LA TERMINAL:"
      ],
      "metadata": {
        "id": "N914VLVOFx5D"
      }
    },
    {
      "cell_type": "code",
      "source": [
        "#primer codigo: \"hola mundo\"\n",
        "print(\"hola mundo\")\n",
        "\n"
      ],
      "metadata": {
        "colab": {
          "base_uri": "https://localhost:8080/"
        },
        "id": "CQr7a6LzGsO3",
        "outputId": "b067af1c-4979-419f-b2d2-11828e9576c6"
      },
      "execution_count": null,
      "outputs": [
        {
          "output_type": "stream",
          "name": "stdout",
          "text": [
            "hola mundo\n"
          ]
        }
      ]
    },
    {
      "cell_type": "markdown",
      "source": [
        "TIPOS DE VARIABLES:"
      ],
      "metadata": {
        "id": "jSgIcHQZGxtd"
      }
    },
    {
      "cell_type": "code",
      "source": [
        "#enteras\n",
        "mi_ent=3\n",
        "\n",
        "#flotates\n",
        "mi_float=4.0\n",
        "\n",
        "#boleanas\n",
        "mi_bol=True\n",
        "\n",
        "#caracteres\n",
        "mi_car = \"hola\"\n",
        "mi_car2='hola2'\n",
        "\n",
        "print(\"variable: \", mi_ent)\n",
        "print(\"tipo de variable: \", type(mi_ent))\n",
        " #mini ejercicio: impriman las otras variables y su tipo"
      ],
      "metadata": {
        "colab": {
          "base_uri": "https://localhost:8080/"
        },
        "id": "CxVuKuoPGuba",
        "outputId": "e5092e43-7a5b-4bab-a094-07d706d0f61b"
      },
      "execution_count": null,
      "outputs": [
        {
          "output_type": "stream",
          "name": "stdout",
          "text": [
            "variable:  3\n",
            "tipo de variable:  <class 'int'>\n"
          ]
        }
      ]
    },
    {
      "cell_type": "markdown",
      "source": [
        "OPERACIONES MATEMÁTICAS BÁSICAS"
      ],
      "metadata": {
        "id": "I5pvAC9aHaZS"
      }
    },
    {
      "cell_type": "code",
      "source": [
        "#operaciones basicas entre variables\n",
        "suma = mi_ent + mi_float\n",
        "#print(suma)\n",
        "\n",
        "suma2= mi_car + \" \" + mi_car2\n",
        "#print(suma2)\n",
        "\n",
        "#\tNO FUNCIONA\n",
        "#suma_que_no_funciona = mi_ent + mi_car\n",
        "#print(suma_que_no_funciona)\n",
        "\n",
        "#mini ejercicio: descomenten lo anterior y entiendan cuál es el error"
      ],
      "metadata": {
        "id": "Xh-gb4u6G8de"
      },
      "execution_count": null,
      "outputs": []
    },
    {
      "cell_type": "markdown",
      "source": [
        "LISTAS y APPEND"
      ],
      "metadata": {
        "id": "K9bsQcGpIPKr"
      }
    },
    {
      "cell_type": "code",
      "source": [
        "#listas\n",
        "#defino lista vacia:\n",
        "mi_lista=[]\n",
        "#print(mi_lista)\n",
        "\n",
        "#le agrego un elemento\n",
        "mi_lista.append(27.0)\n",
        "#print(mi_lista)\n",
        "\n",
        "#le agrego otro elemento\n",
        "mi_lista.append(12)\n",
        "#print(mi_lista)\n",
        "\n",
        "#le agrego varios elementos\n",
        "mi_lista.append(45)\n",
        "mi_lista.append(5.2)\n",
        "mi_lista.append(17)\n",
        "mi_lista.append(22)\n",
        "\n",
        "print(\"mi lista: \", mi_lista)\n",
        "\n",
        "#imprimo el primer elemento de la lista\n",
        "print(\"primer elemento: \", mi_lista[0])\n",
        "\n",
        "#mini ejercicio: imprima el tercer elemento:\n",
        "print(\"primer elemento: \", mi_lista[2])\n",
        "\n",
        "#otra forma de definir listas:\n",
        "mi_lista2=[12,34,56,67,87,65,45.0]\n",
        "print(\"mi_lista2: \", mi_lista2)\n",
        "\n",
        "#las listas pueden tener todo tipo de variables\n",
        "mi_lista3=[12, 34.0, \"gato\", True, 34.56]\n",
        "print(\"mi_lista3: \", mi_lista3)\n",
        "\n",
        "#mini ejercicio: qué pasa si sumo mi_lista2 con mi_lista3? imprima el resultado\n",
        "mi_suma=mi_lista2 + mi_lista3\n",
        "print(\"suma de mi_lista2 y mi_lista3: \", mi_suma)\n",
        "\n",
        "#mini ejercicio: qué pasa si multiplico mi_lista2 por 3\n",
        "prod_lista= mi_lista2*3\n",
        "print(\"mi_lista2 x 2: \", prod_lista)\n",
        "\n",
        "#mini ejercicio: qué pasa si multiplico mi_lista por mi_lista2?\n",
        "#prod_listas = mi_lista*mi_lista2"
      ],
      "metadata": {
        "colab": {
          "base_uri": "https://localhost:8080/"
        },
        "id": "jAyQouiBHjdU",
        "outputId": "38729f29-b9d0-411c-e92d-8464edcc170f"
      },
      "execution_count": null,
      "outputs": [
        {
          "output_type": "stream",
          "name": "stdout",
          "text": [
            "mi lista:  [27.0, 12, 45, 5.2, 17, 22]\n",
            "primer elemento:  27.0\n",
            "primer elemento:  45\n",
            "mi_lista2:  [12, 34, 56, 67, 87, 65, 45.0]\n",
            "mi_lista3:  [12, 34.0, 'gato', True, 34.56]\n",
            "suma de mi_lista2 y mi_lista3:  [12, 34, 56, 67, 87, 65, 45.0, 12, 34.0, 'gato', True, 34.56]\n",
            "mi_lista2 x 2:  [12, 34, 56, 67, 87, 65, 45.0, 12, 34, 56, 67, 87, 65, 45.0, 12, 34, 56, 67, 87, 65, 45.0]\n"
          ]
        }
      ]
    },
    {
      "cell_type": "markdown",
      "source": [
        "OPERADORES ARITMÉTICOS BÁSICOS"
      ],
      "metadata": {
        "id": "7uNtMkzCKwiY"
      }
    },
    {
      "cell_type": "code",
      "source": [
        "#operadores aritmeticos basicos\n",
        "a=12.5\n",
        "b=3\n",
        "c=15\n",
        "#suma\n",
        "suma=a+b\n",
        "#resta\n",
        "resta=a-b\n",
        "#producto\n",
        "a*b\n",
        "#division\n",
        "a/b\n",
        "#potencia\n",
        "a**b\n",
        "#modulo\n",
        "a%b\n",
        "\n",
        "\n",
        "#mini ejercicio: imprima los resultados de las operaciones anteriores\n",
        "\n",
        "# errores numéricos\n",
        "suma1=1+(1.5e56-1.5e56)\n",
        "suma2=(1+1.5e56)-1.5e56\n",
        "print(suma1)\n",
        "print(suma2)"
      ],
      "metadata": {
        "colab": {
          "base_uri": "https://localhost:8080/"
        },
        "id": "sybK7-0yIyDJ",
        "outputId": "f3c5931e-ff1c-472f-bec2-738c80a783d9"
      },
      "execution_count": null,
      "outputs": [
        {
          "output_type": "stream",
          "name": "stdout",
          "text": [
            "1.0\n",
            "0.0\n"
          ]
        }
      ]
    },
    {
      "cell_type": "markdown",
      "source": [
        "OPERADORES BÁSICOS DE COMPARACIÓN"
      ],
      "metadata": {
        "id": "AyLJKcIri9l0"
      }
    },
    {
      "cell_type": "code",
      "source": [
        "#operadores de comparacion basicos\n",
        "a=12.5\n",
        "b=3\n",
        "c=15\n",
        "#igual que\n",
        "a==b\n",
        "#diferente de\n",
        "a!=b\n",
        "#mayor que\n",
        "a>b\n",
        "#menor que\n",
        "a<b\n",
        "#mayor o igual\n",
        "a>=b\n",
        "#menor o igual\n",
        "a<=b\n",
        "\n",
        "#mini ejercicio: imprima el resultado de las comparaciones anteriores. qué tipo de variable es?\n",
        "\n",
        "\n",
        "#otros operadores de comparación: https://www.tutorialspoint.com/python/python_basic_operators.htm"
      ],
      "metadata": {
        "colab": {
          "base_uri": "https://localhost:8080/"
        },
        "id": "faCtntPnK1al",
        "outputId": "8a0b84e3-6a5e-45f0-ab15-5b20ca480f82"
      },
      "execution_count": null,
      "outputs": [
        {
          "output_type": "execute_result",
          "data": {
            "text/plain": [
              "False"
            ]
          },
          "metadata": {},
          "execution_count": 4
        }
      ]
    },
    {
      "cell_type": "markdown",
      "source": [
        "CICLOS FOR"
      ],
      "metadata": {
        "id": "J4jl9fVRkiMx"
      }
    },
    {
      "cell_type": "code",
      "source": [
        "#ciclos con la función range\n",
        "for i in range(10):\n",
        "  print(\"i: \", i)\n",
        "\n",
        "#mini ejercicio: mire la documentación de range (por ejemplo acá: https://www.w3schools.com/python/ref_func_range.asp)\n",
        "# y haga que i vaya de -10 a 10 en pasos de 2.\n",
        "\n",
        "\n",
        "#ciclos recorriendo listas o arreglos\n",
        "\n",
        "lista4=[2,3,4,5,6.0,\"gato\"]\n",
        "for elemento in lista4:\n",
        "  print(\"elemento: \", elemento)\n",
        "\n"
      ],
      "metadata": {
        "colab": {
          "base_uri": "https://localhost:8080/"
        },
        "id": "BvqLSNKOklNc",
        "outputId": "4015e863-4d76-4614-bc8b-49dc72104609"
      },
      "execution_count": null,
      "outputs": [
        {
          "output_type": "stream",
          "name": "stdout",
          "text": [
            "i:  0\n",
            "i:  1\n",
            "i:  2\n",
            "i:  3\n",
            "i:  4\n",
            "i:  5\n",
            "i:  6\n",
            "i:  7\n",
            "i:  8\n",
            "i:  9\n",
            "elemento:  2\n",
            "elemento:  3\n",
            "elemento:  4\n",
            "elemento:  5\n",
            "elemento:  6.0\n",
            "elemento:  gato\n"
          ]
        }
      ]
    },
    {
      "cell_type": "markdown",
      "source": [
        "NOTA IMPORTANTE!!! LA INDENTACIÓN SE UTILIZA PARA INDICAR QUÉ INSTRUCCIONES ESTÁN DENTRO DEL CICLO (O DENTRO DEL CONDICIONAL, O DENTRO DE LA FUNCION)...\n"
      ],
      "metadata": {
        "id": "cjtquhiSmVPG"
      }
    },
    {
      "cell_type": "code",
      "source": [
        "# mini ejercicio: pruebe los dos ciclos que están a continuación. Cuál es la diferencia?\n",
        "for j in range(3):\n",
        "  print(\"j: \", j)\n",
        "  print(\"j+2: \", j+2) #nota: cuidado con el copy paste!!!!\n",
        "\n",
        "for k in range(3):\n",
        "  print(\"k: \", k)\n",
        "print(\"k+2: \", k+2)"
      ],
      "metadata": {
        "colab": {
          "base_uri": "https://localhost:8080/"
        },
        "id": "IhZo-NqkmiP7",
        "outputId": "4e0d4531-8db5-44cd-e1cb-745d90bced6d"
      },
      "execution_count": null,
      "outputs": [
        {
          "output_type": "stream",
          "name": "stdout",
          "text": [
            "j:  0\n",
            "j+2:  2\n",
            "j:  1\n",
            "j+2:  3\n",
            "j:  2\n",
            "j+2:  4\n",
            "k:  0\n",
            "k:  1\n",
            "k:  2\n",
            "k+2:  4\n"
          ]
        }
      ]
    },
    {
      "cell_type": "markdown",
      "source": [
        "ARREGLOS DE NUMPY"
      ],
      "metadata": {
        "id": "c658PPBEjjC1"
      }
    },
    {
      "cell_type": "code",
      "source": [
        "\n",
        "#numpy arrays\n",
        "\n",
        "#import la librería de numpy para poder usar arreglos\n",
        "import numpy as np\n",
        "\n",
        "#genero un arreglo de ceros de 10 elementos:\n",
        "arreglo=np.zeros(10)\n",
        "print(arreglo)\n",
        "\n",
        "#remplazo los ceros del arreglo por otro valor usando un ciclo (ver la celda de más adelante)\n",
        "for i in range(10):\n",
        "\tarreglo[i]=(i-2)**3\n",
        "print(arreglo)\n",
        "\n",
        "\n",
        "#mini ejercicio: multiplique el arreglo por 3 e imprima el resultado. Qué diferencia hay con las listas?\n",
        "mult=arreglo*3\n",
        "print(mult)"
      ],
      "metadata": {
        "colab": {
          "base_uri": "https://localhost:8080/"
        },
        "id": "hLFyyMipjCTv",
        "outputId": "594fa5db-4590-4118-fa69-57390657be53"
      },
      "execution_count": null,
      "outputs": [
        {
          "output_type": "stream",
          "name": "stdout",
          "text": [
            "[0. 0. 0. 0. 0. 0. 0. 0. 0. 0.]\n",
            "[ -8.  -1.   0.   1.   8.  27.  64. 125. 216. 343.]\n",
            "[ -24.   -3.    0.    3.   24.   81.  192.  375.  648. 1029.]\n"
          ]
        }
      ]
    },
    {
      "cell_type": "markdown",
      "source": [
        "SLICING DE ARREGLOS DE NUMPY"
      ],
      "metadata": {
        "id": "EnyWAtI_r3-L"
      }
    },
    {
      "cell_type": "code",
      "source": [
        "print(\"todo\", arreglo)\n",
        "print(\"[1:3]\", arreglo[1:3])\n",
        "print(\"[:3]\", arreglo[:3])\n",
        "print(\"[3:]\", arreglo[3:])\n",
        "print(\"[-3:]\", arreglo[-3:])\n",
        "print(\"[3:-3]\", arreglo[3: -3])\n",
        "print(\"[3:-3: 2]\", arreglo[3: -3: 2])"
      ],
      "metadata": {
        "colab": {
          "base_uri": "https://localhost:8080/"
        },
        "id": "ViEY8SI2r70D",
        "outputId": "65d8624f-6fee-43f0-881c-7ac5d29ec528"
      },
      "execution_count": null,
      "outputs": [
        {
          "output_type": "stream",
          "name": "stdout",
          "text": [
            "todo [ -8.  -1.   0.   1.   8.  27.  64. 125. 216. 343.]\n",
            "[1:3] [-1.  0.]\n",
            "[:3] [-8. -1.  0.]\n",
            "[3:] [  1.   8.  27.  64. 125. 216. 343.]\n",
            "[-3:] [125. 216. 343.]\n",
            "[3:-3] [ 1.  8. 27. 64.]\n",
            "[3:-3: 2] [ 1. 27.]\n"
          ]
        }
      ]
    },
    {
      "cell_type": "markdown",
      "source": [
        "CONDICIONALES"
      ],
      "metadata": {
        "id": "g5NvjoTwnzam"
      }
    },
    {
      "cell_type": "code",
      "source": [
        "var1=17\n",
        "var2=25\n",
        "var3=13\n",
        "lista_var=[12, 45, 17, 13]\n",
        "\n",
        "#if else\n",
        "if(var1>=var2):\n",
        "\tprint(var1)\n",
        "else:\n",
        "\tprint(var2)\n",
        "\n",
        "#if elif else\n",
        "if(var1>=var3):\n",
        "\tprint(var1)\n",
        "elif(var2>=var3):\n",
        "\tprint(var2)\n",
        "else:\n",
        "\tprint(var3)\n",
        "\n",
        "\n",
        "# or y and\n",
        "\n",
        "if(var1>var3 and var2>var3):\n",
        "\tprint(var3)\n",
        "\n",
        "if(var1<var3 or var2<var3):\n",
        "\tprint(var3)\n",
        "\n",
        "\n",
        "# in y not\n",
        "if(var1 in lista_var):\n",
        "\tprint(\"verdadero\")\n",
        "\n",
        "\n",
        "if(var2 not in lista_var):\n",
        "\tprint(\"falso\")\n"
      ],
      "metadata": {
        "id": "lyy0hW69j_T-"
      },
      "execution_count": null,
      "outputs": []
    },
    {
      "cell_type": "markdown",
      "source": [
        "WHILE"
      ],
      "metadata": {
        "id": "tHWwqHSNob6i"
      }
    },
    {
      "cell_type": "code",
      "source": [
        "#while\n",
        "\n",
        "j=10\n",
        "\n",
        "while(j<120):\n",
        "\tprint(j)\n",
        "\t#ojo:\n",
        "\tj+=15"
      ],
      "metadata": {
        "id": "foUBkM3golWx"
      },
      "execution_count": null,
      "outputs": []
    },
    {
      "cell_type": "markdown",
      "source": [
        "FUNCIONES"
      ],
      "metadata": {
        "id": "Yv_3W0Wpota0"
      }
    },
    {
      "cell_type": "code",
      "source": [
        "#defino una función que llamo mi_funcion. Uso la indentación para indicar qué está dentro de mi función\n",
        "def mi_funcion(parametro1, parametro2):\n",
        "  #la función imprime el parametro1\n",
        "  f=17\n",
        "  print(\"parametro1= \", parametro1)\n",
        "  #la función retorna el parametro2\n",
        "  return parametro2**2\n",
        "\n",
        "\n",
        "#llamo mi mi funcion con los valores 3 y 4 y almaceno lo que retorna mi_funcion en la variable resultado\n",
        "resultado=mi_funcion(3,4)\n",
        "print(\"resultado\", resultado)\n",
        "\n",
        "#mini ejercicio: prueben qué pasa si quieren imprimir la variable parametro2 por fuera de la función"
      ],
      "metadata": {
        "colab": {
          "base_uri": "https://localhost:8080/"
        },
        "id": "QNIzW2N-ovU9",
        "outputId": "7e45d487-8170-4273-b79a-4e6c3303c79f"
      },
      "execution_count": null,
      "outputs": [
        {
          "output_type": "stream",
          "name": "stdout",
          "text": [
            "parametro1=  3\n",
            "resultado 16\n"
          ]
        }
      ]
    },
    {
      "cell_type": "markdown",
      "source": [
        "++++++++++++++++++++++++++++++++++++++++++ EJERCICIOS\n",
        " ++++++++++++++++++++++++++++++++++++++++++"
      ],
      "metadata": {
        "id": "9MBvGG6GuMMO"
      }
    },
    {
      "cell_type": "markdown",
      "source": [
        "EJERCICIO 1:"
      ],
      "metadata": {
        "id": "1jkBGl2buuan"
      }
    },
    {
      "cell_type": "code",
      "source": [
        "#ejercicio 1\n",
        "\n",
        "print(\"ejercicio 1\")\n",
        "\n",
        "#a) Inicializar dos variables globales (con valores escogidos por ustedes), una entera y otra flotante.\\\\\n",
        "\n",
        "\n",
        "#b) Imprimir los valores de las variables en un mensaje: #\n",
        "#\"la primera tiene un valor de XX y la segunda variable tiene un valor de YY\"\n",
        "\n",
        "\n",
        "\n",
        "#c) Calcular el valor de la segunda variable dividida por la primera e imprimir : \"El resultado es ZZ\"\n",
        "\n",
        "\n",
        "\n",
        "#d) Crear una lista con los elementos: 101, 26, rio, gato, 17, 45 y 28 e imprimirla.\n",
        "\n",
        "\n",
        "#e) Agregarle a esa lista los elementos: 257, 285, 583\n",
        "\n",
        "\n",
        "#f) Hacer un ciclo para recorrer dicha lista e imprimir sus elementos.\n",
        "\n",
        "\n",
        "#g) imprimir el cuarto elemento de la lista.\n",
        "\n",
        "\n",
        "#h) Calcular la longitud de la lista e imprimir: \"la longitud de la lista es XX\" puede usar le función len()\n",
        "\n"
      ],
      "metadata": {
        "colab": {
          "base_uri": "https://localhost:8080/"
        },
        "id": "WQxklqyOpaSK",
        "outputId": "3ea527c9-f48a-4fb7-d69d-1e71d4d5cef0"
      },
      "execution_count": null,
      "outputs": [
        {
          "output_type": "stream",
          "name": "stdout",
          "text": [
            "ejercicio 1\n"
          ]
        }
      ]
    },
    {
      "cell_type": "markdown",
      "source": [
        "EJERCICIO 2:"
      ],
      "metadata": {
        "id": "bu0z0nRLu64_"
      }
    },
    {
      "cell_type": "code",
      "source": [
        "# Complete el siguiente código para que:\n",
        "# recorra el arreglo `x`\n",
        "# imprima los números impares\n",
        "# y pare de imprimir al encontrar un número mayor a 700\n",
        "\n",
        "import numpy as np\n",
        "\n",
        "#genero un arreglo de número aleatorios:\n",
        "x=np.int_(np.random.random(100)*900)\n",
        "print(\"arreglo x: \", x)\n",
        "\n",
        "\n"
      ],
      "metadata": {
        "colab": {
          "base_uri": "https://localhost:8080/"
        },
        "id": "KWQfl16quw8o",
        "outputId": "a56c270c-9b15-47eb-c15c-69004385e423"
      },
      "execution_count": null,
      "outputs": [
        {
          "output_type": "stream",
          "name": "stdout",
          "text": [
            "arreglo x:  [228 573 591 199  78 215 293 635 836 584 504 118  11 178 610 854 546 146\n",
            " 694  91 541 299 497 626 399 867 381  34 771 201 484 675 246 137 301 438\n",
            " 294 395 761 388 304 845 515 889 178 192 739 217 850 325 600 340  64 731\n",
            " 753  85  68 637 835 386 538 384 280 145 547 578 586 124 875 580 120 211\n",
            " 208 166  26 757  18 603 835 477 246  48 774 723 340 424 866 847 141 700\n",
            " 445 415 603 847 557 430 680 434 661 668]\n"
          ]
        }
      ]
    },
    {
      "cell_type": "markdown",
      "source": [
        "EJERCICIO 3:"
      ],
      "metadata": {
        "id": "jWFl8rsZvKOT"
      }
    },
    {
      "cell_type": "code",
      "source": [
        "#ejercicio 3\n",
        "print(\"ejercicio 3\")\n",
        "\n",
        "#Haga una función llamada multiplicación\n",
        "#que reciba como argumentos dos variables a y b y retorne a*b.\n",
        "#Imprima lo que retorna la función para a=10 y b=18\n",
        "\n"
      ],
      "metadata": {
        "colab": {
          "base_uri": "https://localhost:8080/"
        },
        "id": "GRWQWWDqvEf5",
        "outputId": "cbb64a5e-c1ce-41f1-cec3-a270d5d3d151"
      },
      "execution_count": null,
      "outputs": [
        {
          "output_type": "stream",
          "name": "stdout",
          "text": [
            "ejercicio 3\n"
          ]
        }
      ]
    },
    {
      "cell_type": "markdown",
      "source": [
        "EJERCICIO 4"
      ],
      "metadata": {
        "id": "Lyvoe9jfv08k"
      }
    },
    {
      "cell_type": "code",
      "source": [
        "#ejercicio 4\n",
        "print(\"ejercicio 4\")\n",
        "# Complete el siguiente código para que:\n",
        "# recorra la lista x del ejercicio 2 y encuentre el mínimo de los elementos de la lista.\n",
        "#Compare su resultado con el obtenido por np.min e imprima un mensajito con ambos valores.\n",
        "\n"
      ],
      "metadata": {
        "colab": {
          "base_uri": "https://localhost:8080/"
        },
        "id": "sOk7d-7evMIw",
        "outputId": "ba43e495-1d3d-434f-c2da-3f78403b6850"
      },
      "execution_count": null,
      "outputs": [
        {
          "output_type": "stream",
          "name": "stdout",
          "text": [
            "ejercicio 4\n"
          ]
        }
      ]
    },
    {
      "cell_type": "markdown",
      "source": [
        "EJERCICIO 5"
      ],
      "metadata": {
        "id": "mHpcqMRNv7jv"
      }
    },
    {
      "cell_type": "code",
      "source": [
        "#ejercicio 5\n",
        "print(\"ejercicio 5\")\n",
        "#  sin usar ciclos, sume los 10 primeros elementos del arreglo x a los 10 últimos elementos del arreglo x. Imprima el arreglo resultante.\n",
        "import numpy as np\n",
        "\n",
        "#genero un arreglo de número aleatorios:\n",
        "x=np.int_(np.random.random(100)*900)\n",
        "print(\"arreglo x: \", x)\n"
      ],
      "metadata": {
        "colab": {
          "base_uri": "https://localhost:8080/"
        },
        "id": "OBP4y_u1v6kz",
        "outputId": "4aac85ea-2ceb-4692-bb9d-ce75598aabaf"
      },
      "execution_count": null,
      "outputs": [
        {
          "output_type": "stream",
          "name": "stdout",
          "text": [
            "ejercicio 5\n",
            "arreglo x:  [281 106 481 257 616 494 418 316 511 154 697 772 287 659 689 128 643 520\n",
            " 488 652 333 445 592 892 488 418 145 850 569 505 787 536 242 297 106 151\n",
            " 772  26  15 126 608 860 479 140  70 600 357 175 572 148 406 794  32 802\n",
            " 658 844 494 307 333 296 472 166 217 456 414 729 110 542 115 493 716 732\n",
            " 398 544 166 332 277  58 239 532 696 437 245 100 688 267 287 460 299 166\n",
            " 811 790  35 844 602 250 818 729  99 150]\n"
          ]
        }
      ]
    },
    {
      "cell_type": "code",
      "source": [],
      "metadata": {
        "id": "hkPMFa3mwHQ9"
      },
      "execution_count": null,
      "outputs": []
    }
  ]
}